{
 "cells": [
  {
   "cell_type": "markdown",
   "id": "231f7f04-73f2-4061-84b2-ca557c77c087",
   "metadata": {
    "tags": []
   },
   "source": [
    "## 0. Goal of the Notebook\n",
    "\n",
    "This is part 2 of the authorship attribution classification notebook. In this notebook the aim will be to perform feature engineering to transform some the cleaned textual data into a text representation. Multiple models will be trained to detect the text and the models will be improved further through hyperparameter tuning to get more accurate and stronger models. The models will then be evaluated on the final testing dataset to look at their performance. "
   ]
  },
  {
   "cell_type": "markdown",
   "id": "9e561ff3-d678-4ba1-b056-070a95b0c423",
   "metadata": {
    "tags": []
   },
   "source": [
    "## 1. Importing Packages and Loading Data"
   ]
  },
  {
   "cell_type": "code",
   "execution_count": 13,
   "id": "bbca207b-7db4-4cb4-aed3-a99782a41af7",
   "metadata": {
    "tags": []
   },
   "outputs": [],
   "source": [
    "# %pip install xgboost\n",
    "# %pip install gensim"
   ]
  },
  {
   "cell_type": "code",
   "execution_count": 14,
   "id": "ee2f5ee9-5d80-4e41-9d42-9476545cc4c7",
   "metadata": {
    "tags": []
   },
   "outputs": [],
   "source": [
    "import pandas as pd\n",
    "import numpy as np\n",
    "import spacy\n",
    "import textstat\n",
    "import ast\n",
    "import warnings\n",
    "from pprint import pprint\n",
    "import seaborn as sns\n",
    "import matplotlib.pyplot as plt\n",
    "from sklearn.feature_extraction.text import TfidfVectorizer\n",
    "from sklearn import svm\n",
    "from sklearn.preprocessing import StandardScaler\n",
    "from sklearn.linear_model import LogisticRegression\n",
    "from sklearn.metrics import classification_report\n",
    "from sklearn.metrics import f1_score\n",
    "from sklearn.model_selection import train_test_split\n",
    "from sklearn.ensemble import RandomForestClassifier\n",
    "from sklearn.feature_extraction.text import CountVectorizer\n",
    "from sklearn.model_selection import GridSearchCV\n",
    "from sklearn.preprocessing import LabelEncoder\n",
    "from scipy.sparse import csr_matrix\n",
    "from scipy.sparse import hstack\n",
    "from sklearn.model_selection import cross_val_score\n",
    "from sklearn.naive_bayes import ComplementNB\n",
    "from sklearn.tree import DecisionTreeClassifier\n",
    "from sklearn.ensemble import RandomForestClassifier\n",
    "\n",
    "\n",
    "\n",
    "sns.set_style(\"darkgrid\")\n",
    "palette = \"cool\"\n",
    "warnings.simplefilter(action='ignore')\n",
    "# warnings.resetwarnings() to reset\n",
    "nlp = spacy.load(\"en_core_web_sm\") # spacy english model"
   ]
  },
  {
   "cell_type": "code",
   "execution_count": 15,
   "id": "758dfaaa-f101-47e0-b927-6d37e913abc2",
   "metadata": {
    "tags": []
   },
   "outputs": [
    {
     "data": {
      "text/html": [
       "<div>\n",
       "<style scoped>\n",
       "    .dataframe tbody tr th:only-of-type {\n",
       "        vertical-align: middle;\n",
       "    }\n",
       "\n",
       "    .dataframe tbody tr th {\n",
       "        vertical-align: top;\n",
       "    }\n",
       "\n",
       "    .dataframe thead th {\n",
       "        text-align: right;\n",
       "    }\n",
       "</style>\n",
       "<table border=\"1\" class=\"dataframe\">\n",
       "  <thead>\n",
       "    <tr style=\"text-align: right;\">\n",
       "      <th></th>\n",
       "      <th>Text</th>\n",
       "      <th>Author</th>\n",
       "      <th>text_length</th>\n",
       "      <th>word_count</th>\n",
       "      <th>avg_word_length</th>\n",
       "      <th>type_to_token_ratio</th>\n",
       "      <th>punctuations_count</th>\n",
       "      <th>avg_sentence_length</th>\n",
       "      <th>POS_Nouns</th>\n",
       "      <th>POS_Verbs</th>\n",
       "      <th>flesch_reading_score</th>\n",
       "      <th>gunning_fog_index</th>\n",
       "      <th>unique_word_count</th>\n",
       "      <th>stopwords_number</th>\n",
       "      <th>cleaned_text</th>\n",
       "      <th>cleaned_tokens</th>\n",
       "    </tr>\n",
       "  </thead>\n",
       "  <tbody>\n",
       "    <tr>\n",
       "      <th>0</th>\n",
       "      <td>Scoring in PROC DISCRIM is as easy as validati...</td>\n",
       "      <td>AM</td>\n",
       "      <td>215</td>\n",
       "      <td>37</td>\n",
       "      <td>5.810811</td>\n",
       "      <td>0.840000</td>\n",
       "      <td>5</td>\n",
       "      <td>12.333333</td>\n",
       "      <td>0.305556</td>\n",
       "      <td>0.166667</td>\n",
       "      <td>58.99</td>\n",
       "      <td>10.33</td>\n",
       "      <td>21</td>\n",
       "      <td>12</td>\n",
       "      <td>scoring proc discrim easy validation specify v...</td>\n",
       "      <td>['scoring', 'proc', 'discrim', 'easy', 'valida...</td>\n",
       "    </tr>\n",
       "    <tr>\n",
       "      <th>1</th>\n",
       "      <td>In the GLM procedure, you may have used LSMEAN...</td>\n",
       "      <td>AM</td>\n",
       "      <td>782</td>\n",
       "      <td>129</td>\n",
       "      <td>6.062016</td>\n",
       "      <td>0.661972</td>\n",
       "      <td>11</td>\n",
       "      <td>18.428571</td>\n",
       "      <td>0.286822</td>\n",
       "      <td>0.093023</td>\n",
       "      <td>52.80</td>\n",
       "      <td>11.39</td>\n",
       "      <td>47</td>\n",
       "      <td>59</td>\n",
       "      <td>glm procedure may used lsmeans mean statement ...</td>\n",
       "      <td>['glm', 'procedure', 'may', 'used', 'lsmeans',...</td>\n",
       "    </tr>\n",
       "    <tr>\n",
       "      <th>2</th>\n",
       "      <td>The first problem, accuracy of the data file, ...</td>\n",
       "      <td>AM</td>\n",
       "      <td>990</td>\n",
       "      <td>159</td>\n",
       "      <td>6.226415</td>\n",
       "      <td>0.712766</td>\n",
       "      <td>19</td>\n",
       "      <td>16.000000</td>\n",
       "      <td>0.234177</td>\n",
       "      <td>0.158228</td>\n",
       "      <td>46.88</td>\n",
       "      <td>11.39</td>\n",
       "      <td>67</td>\n",
       "      <td>66</td>\n",
       "      <td>first problem accuracy data file problem essen...</td>\n",
       "      <td>['first', 'problem', 'accuracy', 'data', 'file...</td>\n",
       "    </tr>\n",
       "    <tr>\n",
       "      <th>3</th>\n",
       "      <td>If the homogeneity of covariance matrices assu...</td>\n",
       "      <td>AM</td>\n",
       "      <td>934</td>\n",
       "      <td>146</td>\n",
       "      <td>6.397260</td>\n",
       "      <td>0.604938</td>\n",
       "      <td>17</td>\n",
       "      <td>18.250000</td>\n",
       "      <td>0.312925</td>\n",
       "      <td>0.081633</td>\n",
       "      <td>44.44</td>\n",
       "      <td>11.98</td>\n",
       "      <td>49</td>\n",
       "      <td>69</td>\n",
       "      <td>homogeneity covariance matrix assumption viola...</td>\n",
       "      <td>['homogeneity', 'covariance', 'matrix', 'assum...</td>\n",
       "    </tr>\n",
       "    <tr>\n",
       "      <th>4</th>\n",
       "      <td>With a CONTRAST statement, you specify L, in t...</td>\n",
       "      <td>AM</td>\n",
       "      <td>1490</td>\n",
       "      <td>247</td>\n",
       "      <td>6.032389</td>\n",
       "      <td>0.488372</td>\n",
       "      <td>29</td>\n",
       "      <td>15.687500</td>\n",
       "      <td>0.282869</td>\n",
       "      <td>0.127490</td>\n",
       "      <td>55.54</td>\n",
       "      <td>9.15</td>\n",
       "      <td>63</td>\n",
       "      <td>122</td>\n",
       "      <td>contrast statement specify l case vector coeff...</td>\n",
       "      <td>['contrast', 'statement', 'specify', 'l', 'cas...</td>\n",
       "    </tr>\n",
       "  </tbody>\n",
       "</table>\n",
       "</div>"
      ],
      "text/plain": [
       "                                                Text Author  text_length  \\\n",
       "0  Scoring in PROC DISCRIM is as easy as validati...     AM          215   \n",
       "1  In the GLM procedure, you may have used LSMEAN...     AM          782   \n",
       "2  The first problem, accuracy of the data file, ...     AM          990   \n",
       "3  If the homogeneity of covariance matrices assu...     AM          934   \n",
       "4  With a CONTRAST statement, you specify L, in t...     AM         1490   \n",
       "\n",
       "   word_count  avg_word_length  type_to_token_ratio  punctuations_count  \\\n",
       "0          37         5.810811             0.840000                   5   \n",
       "1         129         6.062016             0.661972                  11   \n",
       "2         159         6.226415             0.712766                  19   \n",
       "3         146         6.397260             0.604938                  17   \n",
       "4         247         6.032389             0.488372                  29   \n",
       "\n",
       "   avg_sentence_length  POS_Nouns  POS_Verbs  flesch_reading_score  \\\n",
       "0            12.333333   0.305556   0.166667                 58.99   \n",
       "1            18.428571   0.286822   0.093023                 52.80   \n",
       "2            16.000000   0.234177   0.158228                 46.88   \n",
       "3            18.250000   0.312925   0.081633                 44.44   \n",
       "4            15.687500   0.282869   0.127490                 55.54   \n",
       "\n",
       "   gunning_fog_index  unique_word_count  stopwords_number  \\\n",
       "0              10.33                 21                12   \n",
       "1              11.39                 47                59   \n",
       "2              11.39                 67                66   \n",
       "3              11.98                 49                69   \n",
       "4               9.15                 63               122   \n",
       "\n",
       "                                        cleaned_text  \\\n",
       "0  scoring proc discrim easy validation specify v...   \n",
       "1  glm procedure may used lsmeans mean statement ...   \n",
       "2  first problem accuracy data file problem essen...   \n",
       "3  homogeneity covariance matrix assumption viola...   \n",
       "4  contrast statement specify l case vector coeff...   \n",
       "\n",
       "                                      cleaned_tokens  \n",
       "0  ['scoring', 'proc', 'discrim', 'easy', 'valida...  \n",
       "1  ['glm', 'procedure', 'may', 'used', 'lsmeans',...  \n",
       "2  ['first', 'problem', 'accuracy', 'data', 'file...  \n",
       "3  ['homogeneity', 'covariance', 'matrix', 'assum...  \n",
       "4  ['contrast', 'statement', 'specify', 'l', 'cas...  "
      ]
     },
     "execution_count": 15,
     "metadata": {},
     "output_type": "execute_result"
    }
   ],
   "source": [
    "df_train = pd.read_csv(\"cleaned_data.csv\", index_col=0)\n",
    "df_train.head()"
   ]
  },
  {
   "cell_type": "markdown",
   "id": "24aff5ef-3a22-4d59-bb3e-3bc0738ca49c",
   "metadata": {
    "tags": []
   },
   "source": [
    "## 2. Generating Text Embeddings\n",
    "- bag of words\n",
    "- tf-idf"
   ]
  },
  {
   "cell_type": "markdown",
   "id": "3e938bc4-d7f1-462f-a8bb-2d5d0f3d8a9f",
   "metadata": {},
   "source": [
    "<div class=\"alert alert-info\" role=\"alert\">\n",
    "    --> First lets train a base classifier (random forest) to see what are some of the most important text features  that we can use before moving on to creating the text features. \n",
    "</div>"
   ]
  },
  {
   "cell_type": "code",
   "execution_count": 16,
   "id": "849f88d5-64e6-41f6-81ee-5c860f6477fe",
   "metadata": {
    "tags": []
   },
   "outputs": [],
   "source": [
    "df_train = pd.read_csv(\"cleaned_data.csv\", index_col=0)\n",
    "\n",
    "\n",
    "X = df_train.drop(['Text', 'Author', 'cleaned_tokens', 'cleaned_text'], axis=1)\n",
    "y = df_train['Author']"
   ]
  },
  {
   "cell_type": "code",
   "execution_count": 17,
   "id": "98249429-a630-4ce4-8bb5-7c010e97ee12",
   "metadata": {
    "tags": []
   },
   "outputs": [
    {
     "data": {
      "text/plain": [
       "(816, 12)"
      ]
     },
     "metadata": {},
     "output_type": "display_data"
    },
    {
     "data": {
      "text/plain": [
       "(816,)"
      ]
     },
     "metadata": {},
     "output_type": "display_data"
    }
   ],
   "source": [
    "display(X.shape)\n",
    "display(y.shape)\n",
    "\n",
    "\n",
    "X_train, X_test, y_train, y_test = train_test_split(X, y, test_size=0.2, random_state=42)"
   ]
  },
  {
   "cell_type": "code",
   "execution_count": 18,
   "id": "36f7dc00-b744-4b32-9494-24fb35f2aa9b",
   "metadata": {
    "tags": []
   },
   "outputs": [
    {
     "name": "stdout",
     "output_type": "stream",
     "text": [
      "weighted f1-scores for 5 fold cross validation: [0.44392873 0.50791813 0.48201916 0.49182225 0.5271273 ]\n",
      "average weighted f1 score 0.49056311397031294\n"
     ]
    }
   ],
   "source": [
    "clf = RandomForestClassifier(random_state=0)\n",
    "\n",
    "weighted_f1_cv_scores = cross_val_score(clf, X, y, cv=5, scoring='f1_weighted')\n",
    "print(\"weighted f1-scores for 5 fold cross validation:\", weighted_f1_cv_scores)\n",
    "print(\"average weighted f1 score\", np.mean(weighted_f1_cv_scores))"
   ]
  },
  {
   "cell_type": "markdown",
   "id": "ce8f5524-dc7a-433c-a978-9ac00ca48a3f",
   "metadata": {
    "tags": []
   },
   "source": [
    "<div class=\"alert alert-info\" role=\"alert\">\n",
    "    --> f1 score is 49.05% (5 fold cross validation) by training the model on random forest (no tuning) and using only meta features which shows that the score is not too bad.\n",
    "</div>"
   ]
  },
  {
   "cell_type": "code",
   "execution_count": 19,
   "id": "09c5efb6-fd04-4e5d-b7ea-2d0b02cca3f2",
   "metadata": {
    "tags": []
   },
   "outputs": [
    {
     "data": {
      "image/png": "[encoded data removed]",
      "text/plain": [
       "<Figure size 1000x600 with 1 Axes>"
      ]
     },
     "metadata": {},
     "output_type": "display_data"
    }
   ],
   "source": [
    "import seaborn as sns\n",
    "\n",
    "clf.fit(X_train, y_train)\n",
    "feature_importances = clf.feature_importances_\n",
    "importances = pd.Series(feature_importances, index=X_train.columns)\n",
    "sorted_importances = importances.sort_values(ascending=False)\n",
    "sorted_importances.values\n",
    "\n",
    "\n",
    "plt.figure(figsize=(10, 6))\n",
    "ax = sns.barplot(y=sorted_importances.index, x=sorted_importances.values, palette=palette);\n",
    "ax.set_title('Feature Importance');\n"
   ]
  },
  {
   "cell_type": "markdown",
   "id": "b0cc4e32-8c07-42cc-af28-a523539801be",
   "metadata": {},
   "source": [
    "<div class=\"alert alert-info\" role=\"alert\">\n",
    "    --> Top 3 features are POS_nouns, type to token ratio and avg word length\n",
    "</div>"
   ]
  },
  {
   "cell_type": "markdown",
   "id": "d9ce3b0c-f4bb-4785-83fc-1b804ced6b12",
   "metadata": {},
   "source": [
    "### 1. bag of words"
   ]
  },
  {
   "cell_type": "code",
   "execution_count": 20,
   "id": "9b5a17aa-e693-4c03-bb97-d0e991fcefef",
   "metadata": {
    "tags": []
   },
   "outputs": [
    {
     "name": "stdout",
     "output_type": "stream",
     "text": [
      "['abandon' 'abandoning' 'abbreviated' ... 'zero' 'zip' 'zt']\n"
     ]
    }
   ],
   "source": [
    "vectorizer = CountVectorizer()\n",
    "X = vectorizer.fit_transform(df_train['cleaned_text'])\n",
    "y = df_train['Author']\n",
    "feature_names = vectorizer.get_feature_names_out()\n",
    "count_vect_df = pd.DataFrame(X.toarray(), columns=feature_names)\n",
    "\n",
    "print(feature_names)"
   ]
  },
  {
   "cell_type": "code",
   "execution_count": 21,
   "id": "ef57b3f2-1264-4b4d-83bc-7ef64ac5b362",
   "metadata": {
    "tags": []
   },
   "outputs": [],
   "source": [
    "X_train, X_val, y_train, y_val = train_test_split(X, y, test_size=0.2, random_state=0, stratify=y, shuffle=True)  # doing a training and validation split"
   ]
  },
  {
   "cell_type": "code",
   "execution_count": 22,
   "id": "94a5a86a-fa32-4981-99dc-9b498fa28c3d",
   "metadata": {
    "tags": []
   },
   "outputs": [
    {
     "name": "stdout",
     "output_type": "stream",
     "text": [
      "F1-score for logistic regression (bag of words): 0.9023411959092634\n",
      "('              precision    recall  f1-score   support\\n'\n",
      " '\\n'\n",
      " '          AM       1.00      0.54      0.70        13\\n'\n",
      " '          CD       0.97      1.00      0.99        35\\n'\n",
      " '          DM       0.80      0.97      0.88        29\\n'\n",
      " '          DO       0.89      0.62      0.73        13\\n'\n",
      " '          FE       0.89      0.89      0.89        28\\n'\n",
      " '          TK       0.94      1.00      0.97        46\\n'\n",
      " '\\n'\n",
      " '    accuracy                           0.91       164\\n'\n",
      " '   macro avg       0.92      0.84      0.86       164\\n'\n",
      " 'weighted avg       0.91      0.91      0.90       164\\n')\n"
     ]
    }
   ],
   "source": [
    "log_model = LogisticRegression()\n",
    "log_model.fit(X_train, y_train)\n",
    "\n",
    "y_val_pred = log_model.predict(X_val)\n",
    "f1_score_logreg = f1_score(y_val, y_val_pred, average='weighted')\n",
    "report = classification_report(y_val, y_val_pred)\n",
    "print(\"F1-score for logistic regression (bag of words):\", f1_score_logreg)\n",
    "pprint(report)"
   ]
  },
  {
   "cell_type": "markdown",
   "id": "042e738d-c71a-4cea-b6be-072060caeefe",
   "metadata": {},
   "source": [
    "<div class=\"alert alert-info\" role=\"alert\">\n",
    "    --> 90% weighted average f1 score. Lets add in the meta text features and see how it performs\n",
    "</div>"
   ]
  },
  {
   "cell_type": "code",
   "execution_count": null,
   "id": "e45a7b5f-20c1-4f9a-8c72-063fed489d1e",
   "metadata": {},
   "outputs": [],
   "source": [
    "numerical_features = df_train.drop(columns=[\"Author\", \"cleaned_tokens\", \"cleaned_text\", \"Text\"])\n",
    "\n",
    "numerical_features = numerical_features.apply(pd.to_numeric, errors='coerce')\n",
    "numerical_features = numerical_features.fillna(0)\n",
    "numerical_features_sparse = csr_matrix(numerical_features)\n",
    "numerical_features_scaled = scaler.transform(numerical_features)\n",
    "\n",
    "\n",
    "# preparing the x_test and y_test data\n",
    "X_test = hstack([X_tfidf, numerical_features_scaled])"
   ]
  },
  {
   "cell_type": "code",
   "execution_count": 23,
   "id": "3291c851-358c-428e-95dd-ab7556952963",
   "metadata": {
    "tags": []
   },
   "outputs": [
    {
     "name": "stdout",
     "output_type": "stream",
     "text": [
      "F1-score for Complement Naive Bayes: 0.9311559553475252\n",
      "('              precision    recall  f1-score   support\\n'\n",
      " '\\n'\n",
      " '          AM       0.83      0.77      0.80        13\\n'\n",
      " '          CD       0.85      1.00      0.92        35\\n'\n",
      " '          DM       0.97      0.97      0.97        29\\n'\n",
      " '          DO       1.00      0.69      0.82        13\\n'\n",
      " '          FE       1.00      0.89      0.94        28\\n'\n",
      " '          TK       0.96      1.00      0.98        46\\n'\n",
      " '\\n'\n",
      " '    accuracy                           0.93       164\\n'\n",
      " '   macro avg       0.94      0.89      0.90       164\\n'\n",
      " 'weighted avg       0.94      0.93      0.93       164\\n')\n"
     ]
    }
   ],
   "source": [
    "cnb_model = ComplementNB()\n",
    "cnb_model.fit(X_train, y_train)\n",
    "\n",
    "y_val_pred = cnb_model.predict(X_val)\n",
    "f1_score_cnb = f1_score(y_val, y_val_pred, average='weighted')\n",
    "report_cnb = classification_report(y_val, y_val_pred)\n",
    "\n",
    "print(\"F1-score for Complement Naive Bayes:\", f1_score_cnb)\n",
    "pprint(report_cnb)"
   ]
  },
  {
   "cell_type": "code",
   "execution_count": 24,
   "id": "c632a91e-b670-448a-9822-eeacda5c93c5",
   "metadata": {
    "tags": []
   },
   "outputs": [
    {
     "name": "stdout",
     "output_type": "stream",
     "text": [
      "F1-score for SVM: 0.822139637651543\n",
      "('              precision    recall  f1-score   support\\n'\n",
      " '\\n'\n",
      " '          AM       1.00      0.31      0.47        13\\n'\n",
      " '          CD       0.81      0.97      0.88        35\\n'\n",
      " '          DM       0.79      0.90      0.84        29\\n'\n",
      " '          DO       1.00      0.38      0.56        13\\n'\n",
      " '          FE       0.83      0.86      0.84        28\\n'\n",
      " '          TK       0.88      0.98      0.93        46\\n'\n",
      " '\\n'\n",
      " '    accuracy                           0.84       164\\n'\n",
      " '   macro avg       0.88      0.73      0.75       164\\n'\n",
      " 'weighted avg       0.86      0.84      0.82       164\\n')\n"
     ]
    }
   ],
   "source": [
    "svm_model = svm.SVC()\n",
    "svm_model.fit(X_train, y_train)\n",
    "\n",
    "y_val_pred = svm_model.predict(X_val)\n",
    "f1_score_svm = f1_score(y_val, y_val_pred, average='weighted')\n",
    "report_svm = classification_report(y_val, y_val_pred)\n",
    "\n",
    "print(\"F1-score for SVM:\", f1_score_svm)\n",
    "pprint(report_svm)"
   ]
  },
  {
   "cell_type": "code",
   "execution_count": 25,
   "id": "10b035ec-682f-405f-b2df-0325bcb4f0d3",
   "metadata": {
    "tags": []
   },
   "outputs": [
    {
     "name": "stdout",
     "output_type": "stream",
     "text": [
      "F1-score for Decision Tree: 0.762851221910741\n",
      "('              precision    recall  f1-score   support\\n'\n",
      " '\\n'\n",
      " '          AM       0.50      0.46      0.48        13\\n'\n",
      " '          CD       0.87      0.77      0.82        35\\n'\n",
      " '          DM       0.75      0.83      0.79        29\\n'\n",
      " '          DO       0.55      0.46      0.50        13\\n'\n",
      " '          FE       0.69      0.64      0.67        28\\n'\n",
      " '          TK       0.87      0.98      0.92        46\\n'\n",
      " '\\n'\n",
      " '    accuracy                           0.77       164\\n'\n",
      " '   macro avg       0.70      0.69      0.70       164\\n'\n",
      " 'weighted avg       0.76      0.77      0.76       164\\n')\n"
     ]
    }
   ],
   "source": [
    "dt_model = DecisionTreeClassifier()\n",
    "dt_model.fit(X_train, y_train)\n",
    "\n",
    "y_val_pred = dt_model.predict(X_val)\n",
    "f1_score_dt = f1_score(y_val, y_val_pred, average='weighted')\n",
    "report_dt = classification_report(y_val, y_val_pred)\n",
    "\n",
    "print(\"F1-score for Decision Tree:\", f1_score_dt)\n",
    "pprint(report_dt)"
   ]
  },
  {
   "cell_type": "code",
   "execution_count": 26,
   "id": "de113e48-5066-447e-a636-9b4bab738895",
   "metadata": {
    "tags": []
   },
   "outputs": [
    {
     "name": "stdout",
     "output_type": "stream",
     "text": [
      "F1-score for Random Forest: 0.8828458560092177\n",
      "('              precision    recall  f1-score   support\\n'\n",
      " '\\n'\n",
      " '          AM       1.00      0.38      0.56        13\\n'\n",
      " '          CD       0.88      1.00      0.93        35\\n'\n",
      " '          DM       0.87      0.93      0.90        29\\n'\n",
      " '          DO       1.00      0.54      0.70        13\\n'\n",
      " '          FE       0.90      0.96      0.93        28\\n'\n",
      " '          TK       0.90      1.00      0.95        46\\n'\n",
      " '\\n'\n",
      " '    accuracy                           0.90       164\\n'\n",
      " '   macro avg       0.92      0.80      0.83       164\\n'\n",
      " 'weighted avg       0.91      0.90      0.88       164\\n')\n"
     ]
    }
   ],
   "source": [
    "rf_model = RandomForestClassifier()\n",
    "rf_model.fit(X_train, y_train)\n",
    "\n",
    "y_val_pred = rf_model.predict(X_val)\n",
    "f1_score_rf = f1_score(y_val, y_val_pred, average='weighted')\n",
    "report_rf = classification_report(y_val, y_val_pred)\n",
    "\n",
    "print(\"F1-score for Random Forest:\", f1_score_rf)\n",
    "pprint(report_rf)"
   ]
  },
  {
   "cell_type": "code",
   "execution_count": 27,
   "id": "f99ca8d4-1a95-4c15-8d2a-74216bf00853",
   "metadata": {
    "tags": []
   },
   "outputs": [
    {
     "name": "stdout",
     "output_type": "stream",
     "text": [
      "F1-score for XGBoost: 0.8629137818556788\n",
      "('              precision    recall  f1-score   support\\n'\n",
      " '\\n'\n",
      " '           0       0.86      0.46      0.60        13\\n'\n",
      " '           1       0.85      0.97      0.91        35\\n'\n",
      " '           2       0.78      0.86      0.82        29\\n'\n",
      " '           3       0.88      0.54      0.67        13\\n'\n",
      " '           4       0.89      0.89      0.89        28\\n'\n",
      " '           5       0.94      1.00      0.97        46\\n'\n",
      " '\\n'\n",
      " '    accuracy                           0.87       164\\n'\n",
      " '   macro avg       0.87      0.79      0.81       164\\n'\n",
      " 'weighted avg       0.87      0.87      0.86       164\\n')\n"
     ]
    }
   ],
   "source": [
    "from xgboost import XGBClassifier\n",
    "\n",
    "label_encoder = LabelEncoder()\n",
    "y_train_encoded = label_encoder.fit_transform(y_train)\n",
    "y_val_encoded = label_encoder.transform(y_val)\n",
    "\n",
    "xgb_model = XGBClassifier()\n",
    "xgb_model.fit(X_train, y_train_encoded)\n",
    "\n",
    "y_val_pred = xgb_model.predict(X_val)\n",
    "f1_score_xgb = f1_score(y_val_encoded, y_val_pred, average='weighted')\n",
    "report_xgb = classification_report(y_val_encoded, y_val_pred)\n",
    "\n",
    "print(\"F1-score for XGBoost:\", f1_score_xgb)\n",
    "pprint(report_xgb)"
   ]
  },
  {
   "cell_type": "markdown",
   "id": "adb06311-7592-4d5f-9f08-4ccc866e44f0",
   "metadata": {
    "tags": []
   },
   "source": [
    "### 1. TF-IDF"
   ]
  },
  {
   "cell_type": "code",
   "execution_count": null,
   "id": "21ae0814-2acf-4c45-a96d-1cf223922d0e",
   "metadata": {
    "tags": []
   },
   "outputs": [],
   "source": [
    "tfidf_vectorizer = TfidfVectorizer()\n",
    "\n",
    "X = tfidf_vectorizer.fit_transform(df_train['cleaned_tokens'])\n",
    "y = df_train['Author']"
   ]
  },
  {
   "cell_type": "code",
   "execution_count": null,
   "id": "73f09460-5a89-4064-9483-bfec8e636407",
   "metadata": {
    "tags": []
   },
   "outputs": [],
   "source": [
    "X_train, X_val, y_train, y_val = train_test_split(X, y, test_size=0.2, random_state=0, stratify=y, shuffle=True)"
   ]
  },
  {
   "cell_type": "code",
   "execution_count": null,
   "id": "f46b5ff4-e2f7-42d9-a34a-de319700652b",
   "metadata": {
    "tags": []
   },
   "outputs": [],
   "source": [
    "model = LogisticRegression()\n",
    "model.fit(X_train, y_train)\n",
    "\n",
    "y_val_pred = model.predict(X_val)\n",
    "report = f1_score(y_val, y_val_pred, average=\"weighted\")\n",
    "print(report)"
   ]
  },
  {
   "cell_type": "markdown",
   "id": "46d2c980-b74c-43fc-8611-4640f14e56b0",
   "metadata": {},
   "source": [
    "<div class=\"alert alert-info\" role=\"alert\">\n",
    "    --> 85% f1 score on logistic regression using tfidf. The meta features were not used, only the text features. This is not bad but lets add the meta features and see if there's any improvement.\n",
    "</div>"
   ]
  },
  {
   "cell_type": "code",
   "execution_count": null,
   "id": "04d1d9b2-c3a9-4ee5-b562-729d3fce69b8",
   "metadata": {
    "tags": []
   },
   "outputs": [],
   "source": [
    "feature_corr = df_train.drop(columns=[\"Text\", \"Author\", \"cleaned_tokens\", \"joined_text\"]).corr()\n",
    "sns.heatmap(feature_corr, annot=True, cmap=\"coolwarm\",  fmt=\".2f\");"
   ]
  },
  {
   "cell_type": "markdown",
   "id": "71ef5b0a-f418-40ec-80ea-3b2ae7d93979",
   "metadata": {
    "tags": []
   },
   "source": [
    "<div class=\"alert alert-info\" role=\"alert\">\n",
    "    --> stopwords_number and text_length are highly correlated. text_length will be removed since it has lesser feature importance. <br>\n",
    "    --> word_count and unique_word_count are highly correlated. word_count will be removed since it has lesser feature importance. <br>\n",
    "    --> unique_word_count and stopwords_number are also highly correlated. unique_word_count will be removed for the same reasons as above.<br>\n",
    "    --> punctuation count is the least important and will be removed as well.<br>\n",
    "    <br>\n",
    "Features being removed: text_length, word_count, unique_word_count, punctuation_count\n",
    "</div>"
   ]
  },
  {
   "cell_type": "code",
   "execution_count": null,
   "id": "0b102ae7-f6c4-42fd-b2ce-feaf539be6b2",
   "metadata": {
    "tags": []
   },
   "outputs": [],
   "source": [
    "feat_columns = ['text_length', 'unique_word_count', 'word_count', 'punctuations_count']\n",
    "tfidf_features_addon = df_train.drop(columns=feat_columns)\n",
    "tfidf_features_addon.head()"
   ]
  },
  {
   "cell_type": "code",
   "execution_count": null,
   "id": "be463105-5adf-44e2-a2fe-3042e7d30ac3",
   "metadata": {
    "tags": []
   },
   "outputs": [],
   "source": [
    "X_tfidf = tfidf_vectorizer.fit_transform(df_train['cleaned_tokens'])\n",
    "numerical_features = tfidf_features_addon.drop(columns=[\"Author\", \"cleaned_tokens\", \"Text\", \"joined_text\"])\n",
    "\n",
    "numerical_features = numerical_features.apply(pd.to_numeric, errors='coerce')\n",
    "numerical_features = numerical_features.fillna(0)\n",
    "numerical_features_sparse = csr_matrix(numerical_features)\n",
    "\n",
    "X_combined = hstack([X_tfidf, numerical_features_sparse])\n",
    "X_combined\n",
    "\n",
    "# features are now combined, time to train the logisitc regression model"
   ]
  },
  {
   "cell_type": "code",
   "execution_count": null,
   "id": "b2c63060-377c-43d2-88b5-e390c399306b",
   "metadata": {
    "tags": []
   },
   "outputs": [],
   "source": [
    "X_train, X_val, y_train, y_val = train_test_split(X_combined, y, test_size=0.2, random_state=42)\n",
    "\n",
    "model = LogisticRegression()\n",
    "model.fit(X_train, y_train)\n",
    "\n",
    "y_val_pred = model.predict(X_val)\n",
    "report = f1_score(y_val, y_val_pred, average=\"weighted\")\n",
    "print(report)"
   ]
  },
  {
   "cell_type": "markdown",
   "id": "20ba4019-d291-42f1-ba0e-c1356e59cb9c",
   "metadata": {
    "tags": []
   },
   "source": [
    "<div class=\"alert alert-info\" role=\"alert\">\n",
    "--> The model has performed much worse with the meta features added in. <br>\n",
    "--> It could be because logistic regression is sensitive to the scale of the features. Let's scale the features and try again.\n",
    "</div>"
   ]
  },
  {
   "cell_type": "code",
   "execution_count": null,
   "id": "875b542c",
   "metadata": {},
   "outputs": [],
   "source": [
    "df_train['cleaned_tokens'].dtype"
   ]
  },
  {
   "cell_type": "code",
   "execution_count": null,
   "id": "c36580eb-6597-46d7-8ceb-aef2cf048d30",
   "metadata": {
    "tags": []
   },
   "outputs": [],
   "source": [
    "from sklearn.preprocessing import MinMaxScaler\n",
    "from sklearn.feature_extraction.text import TfidfVectorizer\n",
    "from scipy.sparse import hstack\n",
    "from sklearn.model_selection import train_test_split\n",
    "from sklearn.linear_model import LogisticRegression\n",
    "\n",
    "X_tfidf = tfidf_vectorizer.fit_transform(df_train['cleaned_tokens'])\n",
    "numerical_features = tfidf_features_addon.drop(columns=[\"Author\", \"cleaned_tokens\", \"Text\", \"joined_text\"])\n",
    "\n",
    "scaler = MinMaxScaler() # scales to range 0 to 1\n",
    "\n",
    "numerical_features = numerical_features.apply(pd.to_numeric, errors='coerce')\n",
    "numerical_features = numerical_features.fillna(0)\n",
    "numerical_features_train_scaled = scaler.fit_transform(numerical_features)\n",
    "\n",
    "X_combined = hstack([X_tfidf, numerical_features_train_scaled])"
   ]
  },
  {
   "cell_type": "code",
   "execution_count": null,
   "id": "b90154e8-ecdd-4b32-84cd-a1f54c666593",
   "metadata": {
    "tags": []
   },
   "outputs": [],
   "source": [
    "X_train, X_val, y_train, y_val = train_test_split(X_combined, y, test_size=0.2, random_state=42)\n",
    "\n",
    "model = LogisticRegression()\n",
    "model.fit(X_train, y_train)\n",
    "\n",
    "y_val_pred = model.predict(X_val)\n",
    "f1score = f1_score(y_val, y_val_pred, average=\"weighted\")\n",
    "print(\"F1-score is:\", f1score)"
   ]
  },
  {
   "cell_type": "markdown",
   "id": "a56762db-79a7-43d4-8c59-856af5fad7b2",
   "metadata": {
    "tags": []
   },
   "source": [
    "<div class=\"alert alert-info\" role=\"alert\">\n",
    "--> f1 score is much higher. Looks like scaling did the trick. <br>\n",
    "--> Lets do some hyperparameter tuning to see if the model can improve any further. \n",
    "</div>"
   ]
  },
  {
   "cell_type": "code",
   "execution_count": null,
   "id": "ffde341f-2fb1-4162-8dfc-97aacb8c3300",
   "metadata": {
    "tags": []
   },
   "outputs": [],
   "source": [
    "from sklearn.model_selection import GridSearchCV\n",
    "\n",
    "param_grid = {\n",
    "    'C': [0.01, 0.1, 1, 10, 100],\n",
    "    'penalty': ['l1', 'l2']\n",
    "}\n",
    "\n",
    "lg_grid_search = GridSearchCV(LogisticRegression(), param_grid, cv=10, scoring='f1_weighted')\n",
    "lg_grid_search.fit(X_train, y_train)\n",
    "print(\"Best parameters:\", lg_grid_search.best_params_)"
   ]
  },
  {
   "cell_type": "code",
   "execution_count": null,
   "id": "c1fe3809-7e04-4a92-aca8-6a98db4812f2",
   "metadata": {
    "tags": []
   },
   "outputs": [],
   "source": [
    "print(\"F1 score is:\", lg_grid_search.best_score_)"
   ]
  },
  {
   "cell_type": "markdown",
   "id": "d121b3dc-b08d-4ca7-bc12-0e97d67c226b",
   "metadata": {},
   "source": [
    "<div class=\"alert alert-info\" role=\"alert\">\n",
    "--> C is used to control the regularization and the penalty is the type of regularization <br>\n",
    "--> 95% is a very good f1-score but lets try some other models and compare\n",
    "</div>"
   ]
  },
  {
   "cell_type": "code",
   "execution_count": null,
   "id": "cfa2f0b3-af79-4af0-b80e-8797515bff91",
   "metadata": {
    "tags": []
   },
   "outputs": [],
   "source": [
    "# trying out with naive bayes\n",
    "\n",
    "cnb = ComplementNB() # complement naive bayes will be used due to the class imbalance and also since it is a multiclass classification\n",
    "\n",
    "cnb.fit(X_train, y_train)"
   ]
  },
  {
   "cell_type": "code",
   "execution_count": null,
   "id": "c6452e9c-a6fa-4329-b77d-6459ebc7393b",
   "metadata": {
    "tags": []
   },
   "outputs": [],
   "source": [
    "y_val_pred = cnb.predict(X_val)\n",
    "report = f1_score(y_val, y_val_pred, average=\"weighted\")\n",
    "print(report)"
   ]
  },
  {
   "cell_type": "markdown",
   "id": "9579a5af-aa07-491b-9959-a3c8a9130f60",
   "metadata": {},
   "source": [
    "<div class=\"alert alert-info\" role=\"alert\">\n",
    "--> Naive bayes has better initial performance than logistic regression at an f1 score of 94.8%<br>\n",
    "--> Tuning the model should be able to make it much better\n",
    "</div>"
   ]
  },
  {
   "cell_type": "code",
   "execution_count": null,
   "id": "6ce40fd1-680a-407d-98f2-808a82481820",
   "metadata": {
    "tags": []
   },
   "outputs": [],
   "source": [
    "param_grid = {\n",
    "    'alpha': [0.01, 0.1, 0.5, 1, 10],  # Smoothing parameter\n",
    "    'norm': [True, False]  # L2 normalization\n",
    "}\n",
    "\n",
    "cnb_grid_search = GridSearchCV(cnb, param_grid, cv=10, scoring='f1_weighted', n_jobs=-1)\n",
    "cnb_grid_search.fit(X_train, y_train)\n",
    "print(\"Best parameters:\", cnb_grid_search.best_params_)"
   ]
  },
  {
   "cell_type": "code",
   "execution_count": null,
   "id": "f6fc6dba-5c7f-4bac-bdd8-250a76548a0b",
   "metadata": {
    "tags": []
   },
   "outputs": [],
   "source": [
    "print(cnb_grid_search.best_score_)"
   ]
  },
  {
   "cell_type": "markdown",
   "id": "1cd0e075-7d0f-4145-8ccd-26501d42d1c4",
   "metadata": {
    "tags": []
   },
   "source": [
    "<div class=\"alert alert-info\" role=\"alert\">\n",
    "--> 96.5% f1 score can be observed for Naive bayes, 1% higher than logisitc regression <br>\n",
    "--> Lets also try svm\n",
    "</div>"
   ]
  },
  {
   "cell_type": "code",
   "execution_count": null,
   "id": "3f6db1ba-cb11-486b-920d-19241f2f66d8",
   "metadata": {
    "tags": []
   },
   "outputs": [],
   "source": [
    "# using svm\n",
    "from sklearn import svm\n",
    "\n",
    "svm_clf = svm.SVC()\n",
    "svm_clf.fit(X_train, y_train)\n",
    "\n",
    "y_val_pred = svm_clf.predict(X_val)\n",
    "report = f1_score(y_val, y_val_pred, average=\"weighted\")\n",
    "print(report)"
   ]
  },
  {
   "cell_type": "markdown",
   "id": "0599f39a-3abf-4d89-87ed-d7222dd44b58",
   "metadata": {},
   "source": [
    "<div class=\"alert alert-info\" role=\"alert\">\n",
    "--> 92.3% f1 score, not bad but can be improved through tuning\n",
    "</div>"
   ]
  },
  {
   "cell_type": "code",
   "execution_count": null,
   "id": "25db05e9-72d6-4618-b488-5f3fe4fed913",
   "metadata": {
    "tags": []
   },
   "outputs": [],
   "source": [
    "param_grid = {\n",
    "    'C': [0.1, 1, 10, 100],  # Example values\n",
    "    'kernel': ['linear', 'rbf', 'poly'],  # Example kernel types\n",
    "    'gamma': ['scale', 'auto', 1, 0.1, 0.01, 0.001]  # Example values\n",
    "}\n",
    "\n",
    "svm_grid_search = GridSearchCV(svm_clf, param_grid, cv=10, scoring='f1_weighted', n_jobs=-1)\n",
    "svm_grid_search.fit(X_train, y_train)\n",
    "\n",
    "print(\"Best parameters found: \", svm_grid_search.best_params_)\n",
    "print(\"Best accuracy found: \", svm_grid_search.best_score_)"
   ]
  },
  {
   "cell_type": "markdown",
   "id": "93e0c8b1-0dab-4f48-b125-995c125b866f",
   "metadata": {},
   "source": [
    "<div class=\"alert alert-info\" role=\"alert\">\n",
    "--> 95.70% f1 score but still not as high as naive bayes <br>\n",
    "--> Lets try using tree based models (decision tree and random forest). These are more interpretable models and can handle non linear relationships.\n",
    "</div>"
   ]
  },
  {
   "cell_type": "code",
   "execution_count": null,
   "id": "74f804da-007f-401c-b982-bc9fa12929d3",
   "metadata": {
    "tags": []
   },
   "outputs": [],
   "source": [
    "from sklearn.tree import DecisionTreeClassifier\n",
    "from sklearn.ensemble import RandomForestClassifier\n",
    "from sklearn.model_selection import train_test_split\n",
    "from sklearn.metrics import classification_report, accuracy_score\n",
    "from pprint import pprint\n",
    "\n",
    "dt_clf = DecisionTreeClassifier(random_state=42)\n",
    "dt_clf.fit(X_train, y_train)\n",
    "y_val_pred = dt_clf.predict(X_val)\n",
    "report = f1_score(y_val, y_val_pred, average=\"weighted\")\n",
    "print(report)"
   ]
  },
  {
   "cell_type": "markdown",
   "id": "7a2090ae-f960-4356-9dfd-47862ca69c83",
   "metadata": {
    "tags": []
   },
   "source": [
    "<div class=\"alert alert-info\" role=\"alert\">\n",
    "--> Poor initial performance of 69.6% f1 score. <br>\n",
    "--> Need to tune hyperparameters\n",
    "</div>"
   ]
  },
  {
   "cell_type": "code",
   "execution_count": null,
   "id": "debf1129-3b96-4c79-934d-05c555fe1e75",
   "metadata": {
    "tags": []
   },
   "outputs": [],
   "source": [
    "dt_param_grid = {\n",
    "    'max_depth': [None, 10, 20, 30],\n",
    "    'min_samples_split': [2, 5, 10],\n",
    "    'min_samples_leaf': [1, 2, 4]\n",
    "}\n",
    "\n",
    "dt_grid_search = GridSearchCV(DecisionTreeClassifier(random_state=42),\n",
    "                              dt_param_grid, cv=10, scoring='f1_weighted', n_jobs=-1)\n",
    "\n",
    "dt_grid_search.fit(X_train, y_train)\n",
    "\n",
    "print(\"Best parameters for Decision Tree:\", dt_grid_search.best_params_)\n",
    "print(\"Best f1 score found: \", dt_grid_search.best_score_)"
   ]
  },
  {
   "cell_type": "markdown",
   "id": "22c222cb-e8f2-4e14-83e2-427491ee66b6",
   "metadata": {
    "tags": []
   },
   "source": [
    "<div class=\"alert alert-info\" role=\"alert\">\n",
    "--> Decision Tree is not a suitable model for this. F1 score is quite low even after tuning\n",
    "</div>"
   ]
  },
  {
   "cell_type": "code",
   "execution_count": null,
   "id": "fecc644e-3062-4984-b3ca-8d86e0258d95",
   "metadata": {
    "tags": []
   },
   "outputs": [],
   "source": [
    "rf_clf = RandomForestClassifier(n_estimators=100, random_state=42)\n",
    "rf_clf.fit(X_train, y_train)\n",
    "y_val_pred = rf_clf.predict(X_val)\n",
    "report = f1_score(y_val, y_val_pred, average=\"weighted\")\n",
    "print(report)"
   ]
  },
  {
   "cell_type": "markdown",
   "id": "26f6bb83-0c8e-4484-a700-74f6924f2ad7",
   "metadata": {},
   "source": [
    "<div class=\"alert alert-info\" role=\"alert\">\n",
    "--> 90.7% f1 score, lets improve it further\n",
    "</div>"
   ]
  },
  {
   "cell_type": "code",
   "execution_count": null,
   "id": "a6903230-d732-4c0b-902b-dfe71dcd94be",
   "metadata": {
    "tags": []
   },
   "outputs": [],
   "source": [
    "rf_param_grid = {\n",
    "    'max_depth': [None, 5, 10, 15], \n",
    "    'min_samples_split': [2, 10, 20],\n",
    "    'min_samples_leaf': [1, 5, 10],  \n",
    "    'class_weight': [None, 'balanced']\n",
    "}\n",
    "\n",
    "rf_grid_search = GridSearchCV(RandomForestClassifier(random_state=42),\n",
    "                              rf_param_grid, cv=10, scoring='f1_weighted', n_jobs=-1)\n",
    "\n",
    "rf_grid_search.fit(X_train, y_train)\n",
    "\n",
    "print(\"Best parameters for Random Forest:\", rf_grid_search.best_params_)\n",
    "print(\"Best f1 score found: \", rf_grid_search.best_score_)"
   ]
  },
  {
   "cell_type": "markdown",
   "id": "02ad57a9-e7d0-4f76-bc95-83cadb909b41",
   "metadata": {},
   "source": [
    "<div class=\"alert alert-info\" role=\"alert\">\n",
    "--> Both the tree based models were not able to perform as well as the simpler models like naive bayes, logistic regression and SVM. <br>\n",
    "--> Lets try ensemble methods to see if performance can be improved. The models used will be XGBoost\n",
    "</div>"
   ]
  },
  {
   "cell_type": "code",
   "execution_count": null,
   "id": "10b529e9-678d-4b82-924d-a94efa695b40",
   "metadata": {
    "tags": []
   },
   "outputs": [],
   "source": [
    "from xgboost import XGBClassifier\n",
    "from sklearn.ensemble import AdaBoostClassifier\n",
    "from catboost import CatBoostClassifier\n",
    "from sklearn.metrics import classification_report\n",
    "from sklearn.preprocessing import LabelEncoder\n",
    "\n",
    "# encoding the categorical values in target y\n",
    "label_encoder = LabelEncoder()\n",
    "y_train_encoded = label_encoder.fit_transform(y_train)\n",
    "y_val_encoded = label_encoder.fit_transform(y_val)\n",
    "\n",
    "xgb_classifier = XGBClassifier(use_label_encoder=True, objective=\"multi:softmax\")\n",
    "xgb_classifier.fit(X_train, y_train_encoded)\n",
    "xgb_predictions = xgb_classifier.predict(X_val)\n",
    "\n",
    "print(\"XGBoost Classifier Performance:\")\n",
    "print(classification_report(y_val_encoded, xgb_predictions))\n",
    "\n",
    "print(\"f1 score:\", f1_score(y_val_encoded, xgb_predictions, average=\"weighted\"))"
   ]
  },
  {
   "cell_type": "markdown",
   "id": "fb41dc99-e33b-4f70-8967-66d39cdeab68",
   "metadata": {
    "tags": []
   },
   "source": [
    "<div class=\"alert alert-info\" role=\"alert\">\n",
    "--> Not the best score f1 score of 89%, can be improved through tuning <br>\n",
    "--> gridsearch is taking too long for XGBoost, instead we will use randomsearch instead to speed up the process even though it might not give as good of a result\n",
    "</div>"
   ]
  },
  {
   "cell_type": "code",
   "execution_count": null,
   "id": "5567870a-11a9-4f67-9175-a64f0fa3a32b",
   "metadata": {
    "tags": []
   },
   "outputs": [],
   "source": [
    "# from sklearn.model_selection import RandomizedSearchCV\n",
    "\n",
    "# xgb_param_space = {\n",
    "#     'n_estimators': [50, 100, 200, 300, 500],\n",
    "#     'learning_rate': [0.001, 0.01, 0.05, 0.1, 0.2, 0.3],\n",
    "#     'max_depth': [3, 5, 7, 10, 15],  \n",
    "#     'min_child_weight': [1, 3, 5, 7, 10],\n",
    "#     'gamma': [0, 0.1, 0.2, 0.3, 0.5],  \n",
    "#     'subsample': [0.5, 0.6, 0.7, 0.8, 0.9, 1.0],\n",
    "#     'colsample_bytree': [0.5, 0.6, 0.7, 0.8]\n",
    "# }\n",
    "\n",
    "\n",
    "# xgb_random_search = RandomizedSearchCV(\n",
    "#     xgb_classifier,\n",
    "#     xgb_param_space, \n",
    "#     n_iter=50,\n",
    "#     cv=10,\n",
    "#     scoring='f1_weighted',\n",
    "#     n_jobs=-1, \n",
    "#     random_state=42\n",
    "# )\n",
    "\n",
    "# xgb_random_search.fit(X_train, y_train_encoded)\n",
    "# print(\"Best parameters found: \", xgb_random_search.best_params_)\n",
    "# print(\"Best F1 score found: \", xgb_random_search.best_score_)"
   ]
  },
  {
   "cell_type": "markdown",
   "id": "9f7b3b69-9624-4eab-9142-c5f9ef26ccf8",
   "metadata": {},
   "source": [
    "<div class=\"alert alert-info\" role=\"alert\">\n",
    "--> Model took very long to tune (around 15 mins) with very minimal improvement<br>\n",
    "--> Still not as good as the simpler naive bayes model <br>\n",
    "--> Given more compute resources, a better model could have been produced.\n",
    "</div>"
   ]
  },
  {
   "cell_type": "markdown",
   "id": "928d1c07-888e-4da3-ac7f-c1ff17aa383a",
   "metadata": {
    "jp-MarkdownHeadingCollapsed": true,
    "tags": []
   },
   "source": [
    "### 2. Word2Vec\n",
    "- goal is to create even more robust embeddings that can capture more information about the text"
   ]
  },
  {
   "cell_type": "code",
   "execution_count": null,
   "id": "ef71c8f4-3d70-4835-a883-249eb5286e30",
   "metadata": {
    "tags": []
   },
   "outputs": [],
   "source": [
    "from gensim.models import Word2Vec\n",
    "import os\n",
    "\n",
    "cores = os.cpu_count()\n",
    "\n",
    "model = Word2Vec(sentences=df_train[\"cleaned_tokens\"].apply(ast.literal_eval), vector_size=100, window=5, min_count=1, workers=cores-1)\n",
    "model.save(\"word2vec_model.model\")"
   ]
  },
  {
   "cell_type": "code",
   "execution_count": null,
   "id": "664b08f5-fb1a-4747-9e87-708d3ddd2281",
   "metadata": {
    "tags": []
   },
   "outputs": [],
   "source": [
    "word_vector = model.wv.key_to_index\n",
    "word_vector"
   ]
  },
  {
   "cell_type": "code",
   "execution_count": null,
   "id": "c1c4298b-b5d8-4d13-b654-fab8a87d3209",
   "metadata": {
    "tags": []
   },
   "outputs": [],
   "source": [
    "similar_words = model.wv.most_similar('variable')\n",
    "similar_words "
   ]
  },
  {
   "cell_type": "markdown",
   "id": "37456bdb-125f-4952-9038-ea2e4d0212ee",
   "metadata": {
    "tags": []
   },
   "source": [
    "## 4. Model Comparison and Testing"
   ]
  },
  {
   "cell_type": "code",
   "execution_count": null,
   "id": "aea880ac",
   "metadata": {},
   "outputs": [],
   "source": [
    "df_test = pd.read_excel(\"Assignment_Data/Data_test.xlsx\")\n",
    "df_test.head()"
   ]
  },
  {
   "cell_type": "code",
   "execution_count": null,
   "id": "480373da",
   "metadata": {},
   "outputs": [],
   "source": [
    "from nltk.corpus import stopwords\n",
    "import string\n",
    "import re\n",
    "from nltk.stem import WordNetLemmatizer\n",
    "import spacy\n",
    "\n",
    "nlp = spacy.load(\"en_core_web_sm\") # spacy english model\n",
    "\n",
    "def pos_proportions(text, pos_tag):\n",
    "    doc = nlp(text)\n",
    "    pos_counts = 0\n",
    "    total_words = 0\n",
    "    for token in doc:\n",
    "        if token.is_alpha:\n",
    "            total_words += 1\n",
    "        if token.pos_ == pos_tag:\n",
    "            pos_counts += 1\n",
    "    return pos_counts / total_words if total_words > 0 else 0\n",
    "\n",
    "def avg_word_length(sent): \n",
    "    sent_len = len(sent.split(\" \"))\n",
    "    return sum([len(wrd)  for wrd in sent]) / sent_len\n",
    "\n",
    "def text_tokenizer(sent):\n",
    "    lemmatizer = WordNetLemmatizer()\n",
    "    sent = sent.lower() # convert the text to lowercase\n",
    "    tokens = re.split(r'\\W+', sent) # split text based on non word characters\n",
    "    clean_tokens = [lemmatizer.lemmatize(i) for i in tokens if i not in string.punctuation or not i.isdigit()] # removing number, punctuation and lemmatizing the text\n",
    "    clean_tokens_no_stopwords = [i for i in clean_tokens if i not in stopwords.words('english')]\n",
    "    return clean_tokens_no_stopwords\n",
    "\n",
    "def calculate_ttr(text):\n",
    "    tokens = text_tokenizer(text.lower())\n",
    "    types = set(tokens)\n",
    "    return len(types) / len(tokens) if tokens else 0\n",
    "\n",
    "def creating_features():\n",
    "    df_test['avg_word_length'] = df_test['Text'].apply(avg_word_length)\n",
    "    df_test['type_to_token_ratio'] = df_test['Text'].apply(calculate_ttr)\n",
    "    df_test['avg_sentence_length'] = df_test['Text'].apply(lambda x: np.mean([len(s) for s in str(x).split('.')]))\n",
    "    df_test['POS_Nouns'] = df_test['Text'].apply(lambda x: pos_proportions(x, \"NOUN\"))\n",
    "    df_test['POS_Verbs'] = df_test['Text'].apply(lambda x: pos_proportions(x, \"VERB\"))\n",
    "    df_test['flesch_reading_score'] = df_test['Text'].apply(lambda x: textstat.flesch_reading_ease(x))\n",
    "    df_test['gunning_fog_index'] = df_test['Text'].apply(lambda x: textstat.gunning_fog(x))\n",
    "    df_test['stopwords_number'] = df_test['Text'].apply(lambda x: len([w for w in str(x).lower().split() if w in stopwords.words(\"english\")]))\n",
    "    return df_test\n",
    "\n",
    "df_test = creating_features()\n",
    "df_test.head()"
   ]
  },
  {
   "cell_type": "code",
   "execution_count": null,
   "id": "5a47bd93",
   "metadata": {},
   "outputs": [],
   "source": [
    "import contractions\n",
    "from collections import Counter\n",
    "\n",
    "remove_file_paths = lambda text: re.sub(r'\\b[A-Za-z]:\\\\[^ ]*|\\S+\\.\\S+', '', text).strip()\n",
    "\n",
    "def text_tokenizer(sent):\n",
    "    lemmatizer = WordNetLemmatizer()\n",
    "    sent = remove_file_paths(sent) # removing all file names and file paths\n",
    "    sent = sent.lower() # text to lowercase\n",
    "    sent_expand = contractions.fix(sent) # expand the contractions (I'd => I would)\n",
    "    tokens = re.split(r'\\W+', sent_expand) # split based on non word characters\n",
    "    no_stopwords = [i for i in tokens if i not in stopwords.words('english')]\n",
    "    clean_tokens = [\n",
    "        lemmatizer.lemmatize(i) if i.lower() != \"sas\" else \"SAS\"\n",
    "        for i in no_stopwords \n",
    "        if i not in string.punctuation \n",
    "        and not any(char.isdigit() for char in i)  # Check for digits\n",
    "        and i != \"\"\n",
    "    ]# remove number, punctuation, remove words with numbers and lemmatize text\n",
    "    return clean_tokens\n",
    "\n",
    "\n",
    "def find_words_hyphen(text):\n",
    "    \"\"\"\n",
    "    finding all the words with hyphen and to make them as compound words when tokenizing\n",
    "    \"\"\"\n",
    "    pattern = re.compile(r'\\b[A-Za-z]+(?:-[A-Za-z]+)+\\b')\n",
    "    return pattern.findall(text)\n",
    "\n",
    "hyphenated_words = df_train['Text'].apply(find_words_hyphen).sum()\n",
    "hyphenated_words_flat = [''.join(word) for word in hyphenated_words]\n",
    "hyphenated_word_counts = Counter(hyphenated_words_flat)\n",
    "hyphenated_word_list = list(hyphenated_word_counts)\n",
    "\n",
    "\n",
    "df_test[\"cleaned_tokens\"] = df_test[\"Text\"].apply(text_tokenizer)\n",
    "df_test.head()"
   ]
  },
  {
   "cell_type": "code",
   "execution_count": null,
   "id": "2466788d",
   "metadata": {},
   "outputs": [],
   "source": [
    "import pickle\n",
    "\n",
    "with open('mwe_tokenizer.pkl', 'rb') as f:\n",
    "    mwe_tokenizer = pickle.load(f)\n",
    "\n",
    "def apply_mwe_to_tokens(row):\n",
    "    tokens = mwe_tokenizer.tokenize(row)\n",
    "    cleaned_tokens = [token.replace('\\t', '') for token in tokens if not token.isnumeric()]\n",
    "    return cleaned_tokens\n",
    "\n",
    "df_test[\"cleaned_tokens\"] = df_test[\"cleaned_tokens\"].apply(apply_mwe_to_tokens)\n",
    "df_test.head()"
   ]
  },
  {
   "cell_type": "code",
   "execution_count": null,
   "id": "c03c4c60",
   "metadata": {},
   "outputs": [],
   "source": [
    "# converting to tfidf vectors\n",
    "X_tfidf = tfidf_vectorizer.transform(df_test['cleaned_tokens'].apply(lambda x: \" \".join(x)))\n",
    "numerical_features = df_test.drop(columns=[\"Author\", \"cleaned_tokens\", \"Text\"])\n",
    "\n",
    "numerical_features = numerical_features.apply(pd.to_numeric, errors='coerce')\n",
    "numerical_features = numerical_features.fillna(0)\n",
    "numerical_features_sparse = csr_matrix(numerical_features)\n",
    "numerical_features_scaled = scaler.transform(numerical_features)\n",
    "\n",
    "\n",
    "# preparing the x_test and y_test data\n",
    "X_test = hstack([X_tfidf, numerical_features_scaled])\n",
    "y_test = df_test['Author']"
   ]
  },
  {
   "cell_type": "code",
   "execution_count": null,
   "id": "a81bf599",
   "metadata": {},
   "outputs": [],
   "source": [
    "best_model = cnb_grid_search.best_estimator_\n",
    "best_model"
   ]
  },
  {
   "cell_type": "code",
   "execution_count": null,
   "id": "c23c0c3f",
   "metadata": {},
   "outputs": [],
   "source": [
    "pred = best_model.predict(X_test)\n",
    "\n",
    "pprint(classification_report(y_test, pred))"
   ]
  },
  {
   "cell_type": "markdown",
   "id": "ff9ecdb9",
   "metadata": {},
   "source": [
    "<div class=\"alert alert-info\" role=\"alert\">\n",
    "--> We have achieved a test F1-score of which is a good sign, indicating the production of a robust model. \n",
    "--> Model used was a complement naive bayes with tfidf used for the embeddings\n",
    "</div>"
   ]
  },
  {
   "cell_type": "markdown",
   "id": "995736b4",
   "metadata": {},
   "source": [
    "<div class=\"alert alert-success\" role=\"alert\">\n",
    "Things to improve model performance even further in future: <br>\n",
    "- use better embeddings techniques that can capture the semantics of the text like GloVe <br>\n",
    "- make use of neural networks (RNN) as they are well suited for sequential data<br>\n",
    "- use LSTMs to capture the long range dependencies in text<br>\n",
    "- longer and more comprehensive hyperparameter tuning given more computational resources<br>\n",
    "</div>"
   ]
  }
 ],
 "metadata": {
  "kernelspec": {
   "display_name": "torchenv",
   "language": "python",
   "name": "torchenv"
  },
  "language_info": {
   "codemirror_mode": {
    "name": "ipython",
    "version": 3
   },
   "file_extension": ".py",
   "mimetype": "text/x-python",
   "name": "python",
   "nbconvert_exporter": "python",
   "pygments_lexer": "ipython3",
   "version": "3.9.18"
  }
 },
 "nbformat": 4,
 "nbformat_minor": 5
}
